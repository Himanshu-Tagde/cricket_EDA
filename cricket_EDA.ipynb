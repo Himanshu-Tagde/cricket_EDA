{
  "cells": [
    {
      "cell_type": "code",
      "execution_count": null,
      "id": "d00038b9",
      "metadata": {
        "_cell_guid": "b1076dfc-b9ad-4769-8c92-a6c4dae69d19",
        "_uuid": "8f2839f25d086af736a60e9eeb907d3b93b6e0e5",
        "execution": {
          "iopub.execute_input": "2021-11-29T21:37:55.944152Z",
          "iopub.status.busy": "2021-11-29T21:37:55.942754Z",
          "iopub.status.idle": "2021-11-29T21:37:55.952691Z",
          "shell.execute_reply": "2021-11-29T21:37:55.953246Z",
          "shell.execute_reply.started": "2021-11-29T20:26:35.149815Z"
        },
        "papermill": {
          "duration": 0.046891,
          "end_time": "2021-11-29T21:37:55.953555",
          "exception": false,
          "start_time": "2021-11-29T21:37:55.906664",
          "status": "completed"
        },
        "tags": [],
        "id": "d00038b9"
      },
      "outputs": [],
      "source": [
        "import numpy as np # linear algebra\n",
        "import pandas as pd # data processing, CSV file I/O (e.g. pd.read_csv)\n",
        "import os\n",
        "import matplotlib.pyplot as plt\n"
      ]
    },
    {
      "cell_type": "markdown",
      "id": "66bcd9f9",
      "metadata": {
        "papermill": {
          "duration": 0.0272,
          "end_time": "2021-11-29T21:37:56.008579",
          "exception": false,
          "start_time": "2021-11-29T21:37:55.981379",
          "status": "completed"
        },
        "tags": [],
        "id": "66bcd9f9"
      },
      "source": [
        "Loading file"
      ]
    },
    {
      "cell_type": "code",
      "execution_count": null,
      "id": "2c7ead9a",
      "metadata": {
        "execution": {
          "iopub.execute_input": "2021-11-29T21:37:56.074830Z",
          "iopub.status.busy": "2021-11-29T21:37:56.074179Z",
          "iopub.status.idle": "2021-11-29T21:37:56.149202Z",
          "shell.execute_reply": "2021-11-29T21:37:56.149700Z",
          "shell.execute_reply.started": "2021-11-29T20:26:35.583020Z"
        },
        "papermill": {
          "duration": 0.113681,
          "end_time": "2021-11-29T21:37:56.149865",
          "exception": false,
          "start_time": "2021-11-29T21:37:56.036184",
          "status": "completed"
        },
        "tags": [],
        "id": "2c7ead9a",
        "outputId": "15703e51-c3a5-4dd9-9946-de2a9fe8a13b"
      },
      "outputs": [
        {
          "data": {
            "text/html": [
              "<div>\n",
              "<style scoped>\n",
              "    .dataframe tbody tr th:only-of-type {\n",
              "        vertical-align: middle;\n",
              "    }\n",
              "\n",
              "    .dataframe tbody tr th {\n",
              "        vertical-align: top;\n",
              "    }\n",
              "\n",
              "    .dataframe thead th {\n",
              "        text-align: right;\n",
              "    }\n",
              "</style>\n",
              "<table border=\"1\" class=\"dataframe\">\n",
              "  <thead>\n",
              "    <tr style=\"text-align: right;\">\n",
              "      <th></th>\n",
              "      <th>id</th>\n",
              "      <th>Season</th>\n",
              "      <th>city</th>\n",
              "      <th>date</th>\n",
              "      <th>team1</th>\n",
              "      <th>team2</th>\n",
              "      <th>toss_winner</th>\n",
              "      <th>toss_decision</th>\n",
              "      <th>result</th>\n",
              "      <th>dl_applied</th>\n",
              "      <th>winner</th>\n",
              "      <th>win_by_runs</th>\n",
              "      <th>win_by_wickets</th>\n",
              "      <th>player_of_match</th>\n",
              "      <th>venue</th>\n",
              "      <th>umpire1</th>\n",
              "      <th>umpire2</th>\n",
              "      <th>umpire3</th>\n",
              "    </tr>\n",
              "  </thead>\n",
              "  <tbody>\n",
              "    <tr>\n",
              "      <th>0</th>\n",
              "      <td>1</td>\n",
              "      <td>IPL-2017</td>\n",
              "      <td>Hyderabad</td>\n",
              "      <td>05-04-2017</td>\n",
              "      <td>Sunrisers Hyderabad</td>\n",
              "      <td>Royal Challengers Bangalore</td>\n",
              "      <td>Royal Challengers Bangalore</td>\n",
              "      <td>field</td>\n",
              "      <td>normal</td>\n",
              "      <td>0</td>\n",
              "      <td>Sunrisers Hyderabad</td>\n",
              "      <td>35</td>\n",
              "      <td>0</td>\n",
              "      <td>Yuvraj Singh</td>\n",
              "      <td>Rajiv Gandhi International Stadium, Uppal</td>\n",
              "      <td>AY Dandekar</td>\n",
              "      <td>NJ Llong</td>\n",
              "      <td>NaN</td>\n",
              "    </tr>\n",
              "    <tr>\n",
              "      <th>1</th>\n",
              "      <td>2</td>\n",
              "      <td>IPL-2017</td>\n",
              "      <td>Pune</td>\n",
              "      <td>06-04-2017</td>\n",
              "      <td>Mumbai Indians</td>\n",
              "      <td>Rising Pune Supergiant</td>\n",
              "      <td>Rising Pune Supergiant</td>\n",
              "      <td>field</td>\n",
              "      <td>normal</td>\n",
              "      <td>0</td>\n",
              "      <td>Rising Pune Supergiant</td>\n",
              "      <td>0</td>\n",
              "      <td>7</td>\n",
              "      <td>SPD Smith</td>\n",
              "      <td>Maharashtra Cricket Association Stadium</td>\n",
              "      <td>A Nand Kishore</td>\n",
              "      <td>S Ravi</td>\n",
              "      <td>NaN</td>\n",
              "    </tr>\n",
              "    <tr>\n",
              "      <th>2</th>\n",
              "      <td>3</td>\n",
              "      <td>IPL-2017</td>\n",
              "      <td>Rajkot</td>\n",
              "      <td>07-04-2017</td>\n",
              "      <td>Gujarat Lions</td>\n",
              "      <td>Kolkata Knight Riders</td>\n",
              "      <td>Kolkata Knight Riders</td>\n",
              "      <td>field</td>\n",
              "      <td>normal</td>\n",
              "      <td>0</td>\n",
              "      <td>Kolkata Knight Riders</td>\n",
              "      <td>0</td>\n",
              "      <td>10</td>\n",
              "      <td>CA Lynn</td>\n",
              "      <td>Saurashtra Cricket Association Stadium</td>\n",
              "      <td>Nitin Menon</td>\n",
              "      <td>CK Nandan</td>\n",
              "      <td>NaN</td>\n",
              "    </tr>\n",
              "    <tr>\n",
              "      <th>3</th>\n",
              "      <td>4</td>\n",
              "      <td>IPL-2017</td>\n",
              "      <td>Indore</td>\n",
              "      <td>08-04-2017</td>\n",
              "      <td>Rising Pune Supergiant</td>\n",
              "      <td>Kings XI Punjab</td>\n",
              "      <td>Kings XI Punjab</td>\n",
              "      <td>field</td>\n",
              "      <td>normal</td>\n",
              "      <td>0</td>\n",
              "      <td>Kings XI Punjab</td>\n",
              "      <td>0</td>\n",
              "      <td>6</td>\n",
              "      <td>GJ Maxwell</td>\n",
              "      <td>Holkar Cricket Stadium</td>\n",
              "      <td>AK Chaudhary</td>\n",
              "      <td>C Shamshuddin</td>\n",
              "      <td>NaN</td>\n",
              "    </tr>\n",
              "    <tr>\n",
              "      <th>4</th>\n",
              "      <td>5</td>\n",
              "      <td>IPL-2017</td>\n",
              "      <td>Bangalore</td>\n",
              "      <td>08-04-2017</td>\n",
              "      <td>Royal Challengers Bangalore</td>\n",
              "      <td>Delhi Daredevils</td>\n",
              "      <td>Royal Challengers Bangalore</td>\n",
              "      <td>bat</td>\n",
              "      <td>normal</td>\n",
              "      <td>0</td>\n",
              "      <td>Royal Challengers Bangalore</td>\n",
              "      <td>15</td>\n",
              "      <td>0</td>\n",
              "      <td>KM Jadhav</td>\n",
              "      <td>M Chinnaswamy Stadium</td>\n",
              "      <td>NaN</td>\n",
              "      <td>NaN</td>\n",
              "      <td>NaN</td>\n",
              "    </tr>\n",
              "    <tr>\n",
              "      <th>...</th>\n",
              "      <td>...</td>\n",
              "      <td>...</td>\n",
              "      <td>...</td>\n",
              "      <td>...</td>\n",
              "      <td>...</td>\n",
              "      <td>...</td>\n",
              "      <td>...</td>\n",
              "      <td>...</td>\n",
              "      <td>...</td>\n",
              "      <td>...</td>\n",
              "      <td>...</td>\n",
              "      <td>...</td>\n",
              "      <td>...</td>\n",
              "      <td>...</td>\n",
              "      <td>...</td>\n",
              "      <td>...</td>\n",
              "      <td>...</td>\n",
              "      <td>...</td>\n",
              "    </tr>\n",
              "    <tr>\n",
              "      <th>751</th>\n",
              "      <td>11347</td>\n",
              "      <td>IPL-2019</td>\n",
              "      <td>Mumbai</td>\n",
              "      <td>05-05-2019</td>\n",
              "      <td>Kolkata Knight Riders</td>\n",
              "      <td>Mumbai Indians</td>\n",
              "      <td>Mumbai Indians</td>\n",
              "      <td>field</td>\n",
              "      <td>normal</td>\n",
              "      <td>0</td>\n",
              "      <td>Mumbai Indians</td>\n",
              "      <td>0</td>\n",
              "      <td>9</td>\n",
              "      <td>HH Pandya</td>\n",
              "      <td>Wankhede Stadium</td>\n",
              "      <td>Nanda Kishore</td>\n",
              "      <td>O Nandan</td>\n",
              "      <td>S Ravi</td>\n",
              "    </tr>\n",
              "    <tr>\n",
              "      <th>752</th>\n",
              "      <td>11412</td>\n",
              "      <td>IPL-2019</td>\n",
              "      <td>Chennai</td>\n",
              "      <td>07-05-2019</td>\n",
              "      <td>Chennai Super Kings</td>\n",
              "      <td>Mumbai Indians</td>\n",
              "      <td>Chennai Super Kings</td>\n",
              "      <td>bat</td>\n",
              "      <td>normal</td>\n",
              "      <td>0</td>\n",
              "      <td>Mumbai Indians</td>\n",
              "      <td>0</td>\n",
              "      <td>6</td>\n",
              "      <td>AS Yadav</td>\n",
              "      <td>M. A. Chidambaram Stadium</td>\n",
              "      <td>Nigel Llong</td>\n",
              "      <td>Nitin Menon</td>\n",
              "      <td>Ian Gould</td>\n",
              "    </tr>\n",
              "    <tr>\n",
              "      <th>753</th>\n",
              "      <td>11413</td>\n",
              "      <td>IPL-2019</td>\n",
              "      <td>Visakhapatnam</td>\n",
              "      <td>08-05-2019</td>\n",
              "      <td>Sunrisers Hyderabad</td>\n",
              "      <td>Delhi Capitals</td>\n",
              "      <td>Delhi Capitals</td>\n",
              "      <td>field</td>\n",
              "      <td>normal</td>\n",
              "      <td>0</td>\n",
              "      <td>Delhi Capitals</td>\n",
              "      <td>0</td>\n",
              "      <td>2</td>\n",
              "      <td>RR Pant</td>\n",
              "      <td>ACA-VDCA Stadium</td>\n",
              "      <td>NaN</td>\n",
              "      <td>NaN</td>\n",
              "      <td>NaN</td>\n",
              "    </tr>\n",
              "    <tr>\n",
              "      <th>754</th>\n",
              "      <td>11414</td>\n",
              "      <td>IPL-2019</td>\n",
              "      <td>Visakhapatnam</td>\n",
              "      <td>10-05-2019</td>\n",
              "      <td>Delhi Capitals</td>\n",
              "      <td>Chennai Super Kings</td>\n",
              "      <td>Chennai Super Kings</td>\n",
              "      <td>field</td>\n",
              "      <td>normal</td>\n",
              "      <td>0</td>\n",
              "      <td>Chennai Super Kings</td>\n",
              "      <td>0</td>\n",
              "      <td>6</td>\n",
              "      <td>F du Plessis</td>\n",
              "      <td>ACA-VDCA Stadium</td>\n",
              "      <td>Sundaram Ravi</td>\n",
              "      <td>Bruce Oxenford</td>\n",
              "      <td>Chettithody Shamshuddin</td>\n",
              "    </tr>\n",
              "    <tr>\n",
              "      <th>755</th>\n",
              "      <td>11415</td>\n",
              "      <td>IPL-2019</td>\n",
              "      <td>Hyderabad</td>\n",
              "      <td>12-05-2019</td>\n",
              "      <td>Mumbai Indians</td>\n",
              "      <td>Chennai Super Kings</td>\n",
              "      <td>Mumbai Indians</td>\n",
              "      <td>bat</td>\n",
              "      <td>normal</td>\n",
              "      <td>0</td>\n",
              "      <td>Mumbai Indians</td>\n",
              "      <td>1</td>\n",
              "      <td>0</td>\n",
              "      <td>JJ Bumrah</td>\n",
              "      <td>Rajiv Gandhi Intl. Cricket Stadium</td>\n",
              "      <td>Nitin Menon</td>\n",
              "      <td>Ian Gould</td>\n",
              "      <td>Nigel Llong</td>\n",
              "    </tr>\n",
              "  </tbody>\n",
              "</table>\n",
              "<p>756 rows × 18 columns</p>\n",
              "</div>"
            ],
            "text/plain": [
              "        id    Season           city        date                        team1  \\\n",
              "0        1  IPL-2017      Hyderabad  05-04-2017          Sunrisers Hyderabad   \n",
              "1        2  IPL-2017           Pune  06-04-2017               Mumbai Indians   \n",
              "2        3  IPL-2017         Rajkot  07-04-2017                Gujarat Lions   \n",
              "3        4  IPL-2017         Indore  08-04-2017       Rising Pune Supergiant   \n",
              "4        5  IPL-2017      Bangalore  08-04-2017  Royal Challengers Bangalore   \n",
              "..     ...       ...            ...         ...                          ...   \n",
              "751  11347  IPL-2019         Mumbai  05-05-2019        Kolkata Knight Riders   \n",
              "752  11412  IPL-2019        Chennai  07-05-2019          Chennai Super Kings   \n",
              "753  11413  IPL-2019  Visakhapatnam  08-05-2019          Sunrisers Hyderabad   \n",
              "754  11414  IPL-2019  Visakhapatnam  10-05-2019               Delhi Capitals   \n",
              "755  11415  IPL-2019      Hyderabad  12-05-2019               Mumbai Indians   \n",
              "\n",
              "                           team2                  toss_winner toss_decision  \\\n",
              "0    Royal Challengers Bangalore  Royal Challengers Bangalore         field   \n",
              "1         Rising Pune Supergiant       Rising Pune Supergiant         field   \n",
              "2          Kolkata Knight Riders        Kolkata Knight Riders         field   \n",
              "3                Kings XI Punjab              Kings XI Punjab         field   \n",
              "4               Delhi Daredevils  Royal Challengers Bangalore           bat   \n",
              "..                           ...                          ...           ...   \n",
              "751               Mumbai Indians               Mumbai Indians         field   \n",
              "752               Mumbai Indians          Chennai Super Kings           bat   \n",
              "753               Delhi Capitals               Delhi Capitals         field   \n",
              "754          Chennai Super Kings          Chennai Super Kings         field   \n",
              "755          Chennai Super Kings               Mumbai Indians           bat   \n",
              "\n",
              "     result  dl_applied                       winner  win_by_runs  \\\n",
              "0    normal           0          Sunrisers Hyderabad           35   \n",
              "1    normal           0       Rising Pune Supergiant            0   \n",
              "2    normal           0        Kolkata Knight Riders            0   \n",
              "3    normal           0              Kings XI Punjab            0   \n",
              "4    normal           0  Royal Challengers Bangalore           15   \n",
              "..      ...         ...                          ...          ...   \n",
              "751  normal           0               Mumbai Indians            0   \n",
              "752  normal           0               Mumbai Indians            0   \n",
              "753  normal           0               Delhi Capitals            0   \n",
              "754  normal           0          Chennai Super Kings            0   \n",
              "755  normal           0               Mumbai Indians            1   \n",
              "\n",
              "     win_by_wickets player_of_match  \\\n",
              "0                 0    Yuvraj Singh   \n",
              "1                 7       SPD Smith   \n",
              "2                10         CA Lynn   \n",
              "3                 6      GJ Maxwell   \n",
              "4                 0       KM Jadhav   \n",
              "..              ...             ...   \n",
              "751               9       HH Pandya   \n",
              "752               6        AS Yadav   \n",
              "753               2         RR Pant   \n",
              "754               6    F du Plessis   \n",
              "755               0       JJ Bumrah   \n",
              "\n",
              "                                         venue         umpire1  \\\n",
              "0    Rajiv Gandhi International Stadium, Uppal     AY Dandekar   \n",
              "1      Maharashtra Cricket Association Stadium  A Nand Kishore   \n",
              "2       Saurashtra Cricket Association Stadium     Nitin Menon   \n",
              "3                       Holkar Cricket Stadium    AK Chaudhary   \n",
              "4                        M Chinnaswamy Stadium             NaN   \n",
              "..                                         ...             ...   \n",
              "751                           Wankhede Stadium   Nanda Kishore   \n",
              "752                  M. A. Chidambaram Stadium     Nigel Llong   \n",
              "753                           ACA-VDCA Stadium             NaN   \n",
              "754                           ACA-VDCA Stadium   Sundaram Ravi   \n",
              "755         Rajiv Gandhi Intl. Cricket Stadium     Nitin Menon   \n",
              "\n",
              "            umpire2                  umpire3  \n",
              "0          NJ Llong                      NaN  \n",
              "1            S Ravi                      NaN  \n",
              "2         CK Nandan                      NaN  \n",
              "3     C Shamshuddin                      NaN  \n",
              "4               NaN                      NaN  \n",
              "..              ...                      ...  \n",
              "751        O Nandan                   S Ravi  \n",
              "752     Nitin Menon                Ian Gould  \n",
              "753             NaN                      NaN  \n",
              "754  Bruce Oxenford  Chettithody Shamshuddin  \n",
              "755       Ian Gould              Nigel Llong  \n",
              "\n",
              "[756 rows x 18 columns]"
            ]
          },
          "execution_count": 2,
          "metadata": {},
          "output_type": "execute_result"
        }
      ],
      "source": [
        "ipl=pd.read_csv('../input/ipl-data-set/matches.csv')\n",
        "ipl"
      ]
    },
    {
      "cell_type": "markdown",
      "id": "c461e9ca",
      "metadata": {
        "papermill": {
          "duration": 0.026775,
          "end_time": "2021-11-29T21:37:56.209590",
          "exception": false,
          "start_time": "2021-11-29T21:37:56.182815",
          "status": "completed"
        },
        "tags": [],
        "id": "c461e9ca"
      },
      "source": [
        "showing first five"
      ]
    },
    {
      "cell_type": "code",
      "execution_count": null,
      "id": "190b293f",
      "metadata": {
        "execution": {
          "iopub.execute_input": "2021-11-29T21:37:56.272622Z",
          "iopub.status.busy": "2021-11-29T21:37:56.271626Z",
          "iopub.status.idle": "2021-11-29T21:37:56.287612Z",
          "shell.execute_reply": "2021-11-29T21:37:56.288257Z",
          "shell.execute_reply.started": "2021-11-29T20:26:36.259309Z"
        },
        "papermill": {
          "duration": 0.050173,
          "end_time": "2021-11-29T21:37:56.288441",
          "exception": false,
          "start_time": "2021-11-29T21:37:56.238268",
          "status": "completed"
        },
        "tags": [],
        "id": "190b293f",
        "outputId": "883fbf0a-bf34-4019-f004-e81e3e52190c"
      },
      "outputs": [
        {
          "data": {
            "text/html": [
              "<div>\n",
              "<style scoped>\n",
              "    .dataframe tbody tr th:only-of-type {\n",
              "        vertical-align: middle;\n",
              "    }\n",
              "\n",
              "    .dataframe tbody tr th {\n",
              "        vertical-align: top;\n",
              "    }\n",
              "\n",
              "    .dataframe thead th {\n",
              "        text-align: right;\n",
              "    }\n",
              "</style>\n",
              "<table border=\"1\" class=\"dataframe\">\n",
              "  <thead>\n",
              "    <tr style=\"text-align: right;\">\n",
              "      <th></th>\n",
              "      <th>id</th>\n",
              "      <th>Season</th>\n",
              "      <th>city</th>\n",
              "      <th>date</th>\n",
              "      <th>team1</th>\n",
              "      <th>team2</th>\n",
              "      <th>toss_winner</th>\n",
              "      <th>toss_decision</th>\n",
              "      <th>result</th>\n",
              "      <th>dl_applied</th>\n",
              "      <th>winner</th>\n",
              "      <th>win_by_runs</th>\n",
              "      <th>win_by_wickets</th>\n",
              "      <th>player_of_match</th>\n",
              "      <th>venue</th>\n",
              "      <th>umpire1</th>\n",
              "      <th>umpire2</th>\n",
              "      <th>umpire3</th>\n",
              "    </tr>\n",
              "  </thead>\n",
              "  <tbody>\n",
              "    <tr>\n",
              "      <th>0</th>\n",
              "      <td>1</td>\n",
              "      <td>IPL-2017</td>\n",
              "      <td>Hyderabad</td>\n",
              "      <td>05-04-2017</td>\n",
              "      <td>Sunrisers Hyderabad</td>\n",
              "      <td>Royal Challengers Bangalore</td>\n",
              "      <td>Royal Challengers Bangalore</td>\n",
              "      <td>field</td>\n",
              "      <td>normal</td>\n",
              "      <td>0</td>\n",
              "      <td>Sunrisers Hyderabad</td>\n",
              "      <td>35</td>\n",
              "      <td>0</td>\n",
              "      <td>Yuvraj Singh</td>\n",
              "      <td>Rajiv Gandhi International Stadium, Uppal</td>\n",
              "      <td>AY Dandekar</td>\n",
              "      <td>NJ Llong</td>\n",
              "      <td>NaN</td>\n",
              "    </tr>\n",
              "    <tr>\n",
              "      <th>1</th>\n",
              "      <td>2</td>\n",
              "      <td>IPL-2017</td>\n",
              "      <td>Pune</td>\n",
              "      <td>06-04-2017</td>\n",
              "      <td>Mumbai Indians</td>\n",
              "      <td>Rising Pune Supergiant</td>\n",
              "      <td>Rising Pune Supergiant</td>\n",
              "      <td>field</td>\n",
              "      <td>normal</td>\n",
              "      <td>0</td>\n",
              "      <td>Rising Pune Supergiant</td>\n",
              "      <td>0</td>\n",
              "      <td>7</td>\n",
              "      <td>SPD Smith</td>\n",
              "      <td>Maharashtra Cricket Association Stadium</td>\n",
              "      <td>A Nand Kishore</td>\n",
              "      <td>S Ravi</td>\n",
              "      <td>NaN</td>\n",
              "    </tr>\n",
              "    <tr>\n",
              "      <th>2</th>\n",
              "      <td>3</td>\n",
              "      <td>IPL-2017</td>\n",
              "      <td>Rajkot</td>\n",
              "      <td>07-04-2017</td>\n",
              "      <td>Gujarat Lions</td>\n",
              "      <td>Kolkata Knight Riders</td>\n",
              "      <td>Kolkata Knight Riders</td>\n",
              "      <td>field</td>\n",
              "      <td>normal</td>\n",
              "      <td>0</td>\n",
              "      <td>Kolkata Knight Riders</td>\n",
              "      <td>0</td>\n",
              "      <td>10</td>\n",
              "      <td>CA Lynn</td>\n",
              "      <td>Saurashtra Cricket Association Stadium</td>\n",
              "      <td>Nitin Menon</td>\n",
              "      <td>CK Nandan</td>\n",
              "      <td>NaN</td>\n",
              "    </tr>\n",
              "    <tr>\n",
              "      <th>3</th>\n",
              "      <td>4</td>\n",
              "      <td>IPL-2017</td>\n",
              "      <td>Indore</td>\n",
              "      <td>08-04-2017</td>\n",
              "      <td>Rising Pune Supergiant</td>\n",
              "      <td>Kings XI Punjab</td>\n",
              "      <td>Kings XI Punjab</td>\n",
              "      <td>field</td>\n",
              "      <td>normal</td>\n",
              "      <td>0</td>\n",
              "      <td>Kings XI Punjab</td>\n",
              "      <td>0</td>\n",
              "      <td>6</td>\n",
              "      <td>GJ Maxwell</td>\n",
              "      <td>Holkar Cricket Stadium</td>\n",
              "      <td>AK Chaudhary</td>\n",
              "      <td>C Shamshuddin</td>\n",
              "      <td>NaN</td>\n",
              "    </tr>\n",
              "    <tr>\n",
              "      <th>4</th>\n",
              "      <td>5</td>\n",
              "      <td>IPL-2017</td>\n",
              "      <td>Bangalore</td>\n",
              "      <td>08-04-2017</td>\n",
              "      <td>Royal Challengers Bangalore</td>\n",
              "      <td>Delhi Daredevils</td>\n",
              "      <td>Royal Challengers Bangalore</td>\n",
              "      <td>bat</td>\n",
              "      <td>normal</td>\n",
              "      <td>0</td>\n",
              "      <td>Royal Challengers Bangalore</td>\n",
              "      <td>15</td>\n",
              "      <td>0</td>\n",
              "      <td>KM Jadhav</td>\n",
              "      <td>M Chinnaswamy Stadium</td>\n",
              "      <td>NaN</td>\n",
              "      <td>NaN</td>\n",
              "      <td>NaN</td>\n",
              "    </tr>\n",
              "  </tbody>\n",
              "</table>\n",
              "</div>"
            ],
            "text/plain": [
              "   id    Season       city        date                        team1  \\\n",
              "0   1  IPL-2017  Hyderabad  05-04-2017          Sunrisers Hyderabad   \n",
              "1   2  IPL-2017       Pune  06-04-2017               Mumbai Indians   \n",
              "2   3  IPL-2017     Rajkot  07-04-2017                Gujarat Lions   \n",
              "3   4  IPL-2017     Indore  08-04-2017       Rising Pune Supergiant   \n",
              "4   5  IPL-2017  Bangalore  08-04-2017  Royal Challengers Bangalore   \n",
              "\n",
              "                         team2                  toss_winner toss_decision  \\\n",
              "0  Royal Challengers Bangalore  Royal Challengers Bangalore         field   \n",
              "1       Rising Pune Supergiant       Rising Pune Supergiant         field   \n",
              "2        Kolkata Knight Riders        Kolkata Knight Riders         field   \n",
              "3              Kings XI Punjab              Kings XI Punjab         field   \n",
              "4             Delhi Daredevils  Royal Challengers Bangalore           bat   \n",
              "\n",
              "   result  dl_applied                       winner  win_by_runs  \\\n",
              "0  normal           0          Sunrisers Hyderabad           35   \n",
              "1  normal           0       Rising Pune Supergiant            0   \n",
              "2  normal           0        Kolkata Knight Riders            0   \n",
              "3  normal           0              Kings XI Punjab            0   \n",
              "4  normal           0  Royal Challengers Bangalore           15   \n",
              "\n",
              "   win_by_wickets player_of_match                                      venue  \\\n",
              "0               0    Yuvraj Singh  Rajiv Gandhi International Stadium, Uppal   \n",
              "1               7       SPD Smith    Maharashtra Cricket Association Stadium   \n",
              "2              10         CA Lynn     Saurashtra Cricket Association Stadium   \n",
              "3               6      GJ Maxwell                     Holkar Cricket Stadium   \n",
              "4               0       KM Jadhav                      M Chinnaswamy Stadium   \n",
              "\n",
              "          umpire1        umpire2 umpire3  \n",
              "0     AY Dandekar       NJ Llong     NaN  \n",
              "1  A Nand Kishore         S Ravi     NaN  \n",
              "2     Nitin Menon      CK Nandan     NaN  \n",
              "3    AK Chaudhary  C Shamshuddin     NaN  \n",
              "4             NaN            NaN     NaN  "
            ]
          },
          "execution_count": 3,
          "metadata": {},
          "output_type": "execute_result"
        }
      ],
      "source": [
        "ipl.head()"
      ]
    },
    {
      "cell_type": "markdown",
      "id": "eb59f95c",
      "metadata": {
        "papermill": {
          "duration": 0.029582,
          "end_time": "2021-11-29T21:37:56.348391",
          "exception": false,
          "start_time": "2021-11-29T21:37:56.318809",
          "status": "completed"
        },
        "tags": [],
        "id": "eb59f95c"
      },
      "source": [
        "showing last five"
      ]
    },
    {
      "cell_type": "code",
      "execution_count": null,
      "id": "eddacecf",
      "metadata": {
        "execution": {
          "iopub.execute_input": "2021-11-29T21:37:56.411367Z",
          "iopub.status.busy": "2021-11-29T21:37:56.410569Z",
          "iopub.status.idle": "2021-11-29T21:37:56.430743Z",
          "shell.execute_reply": "2021-11-29T21:37:56.430024Z",
          "shell.execute_reply.started": "2021-11-29T20:26:36.752680Z"
        },
        "papermill": {
          "duration": 0.05299,
          "end_time": "2021-11-29T21:37:56.430902",
          "exception": false,
          "start_time": "2021-11-29T21:37:56.377912",
          "status": "completed"
        },
        "tags": [],
        "id": "eddacecf",
        "outputId": "78fa5094-17e3-40e9-9790-fdd7f81a2e42"
      },
      "outputs": [
        {
          "data": {
            "text/html": [
              "<div>\n",
              "<style scoped>\n",
              "    .dataframe tbody tr th:only-of-type {\n",
              "        vertical-align: middle;\n",
              "    }\n",
              "\n",
              "    .dataframe tbody tr th {\n",
              "        vertical-align: top;\n",
              "    }\n",
              "\n",
              "    .dataframe thead th {\n",
              "        text-align: right;\n",
              "    }\n",
              "</style>\n",
              "<table border=\"1\" class=\"dataframe\">\n",
              "  <thead>\n",
              "    <tr style=\"text-align: right;\">\n",
              "      <th></th>\n",
              "      <th>id</th>\n",
              "      <th>Season</th>\n",
              "      <th>city</th>\n",
              "      <th>date</th>\n",
              "      <th>team1</th>\n",
              "      <th>team2</th>\n",
              "      <th>toss_winner</th>\n",
              "      <th>toss_decision</th>\n",
              "      <th>result</th>\n",
              "      <th>dl_applied</th>\n",
              "      <th>winner</th>\n",
              "      <th>win_by_runs</th>\n",
              "      <th>win_by_wickets</th>\n",
              "      <th>player_of_match</th>\n",
              "      <th>venue</th>\n",
              "      <th>umpire1</th>\n",
              "      <th>umpire2</th>\n",
              "      <th>umpire3</th>\n",
              "    </tr>\n",
              "  </thead>\n",
              "  <tbody>\n",
              "    <tr>\n",
              "      <th>751</th>\n",
              "      <td>11347</td>\n",
              "      <td>IPL-2019</td>\n",
              "      <td>Mumbai</td>\n",
              "      <td>05-05-2019</td>\n",
              "      <td>Kolkata Knight Riders</td>\n",
              "      <td>Mumbai Indians</td>\n",
              "      <td>Mumbai Indians</td>\n",
              "      <td>field</td>\n",
              "      <td>normal</td>\n",
              "      <td>0</td>\n",
              "      <td>Mumbai Indians</td>\n",
              "      <td>0</td>\n",
              "      <td>9</td>\n",
              "      <td>HH Pandya</td>\n",
              "      <td>Wankhede Stadium</td>\n",
              "      <td>Nanda Kishore</td>\n",
              "      <td>O Nandan</td>\n",
              "      <td>S Ravi</td>\n",
              "    </tr>\n",
              "    <tr>\n",
              "      <th>752</th>\n",
              "      <td>11412</td>\n",
              "      <td>IPL-2019</td>\n",
              "      <td>Chennai</td>\n",
              "      <td>07-05-2019</td>\n",
              "      <td>Chennai Super Kings</td>\n",
              "      <td>Mumbai Indians</td>\n",
              "      <td>Chennai Super Kings</td>\n",
              "      <td>bat</td>\n",
              "      <td>normal</td>\n",
              "      <td>0</td>\n",
              "      <td>Mumbai Indians</td>\n",
              "      <td>0</td>\n",
              "      <td>6</td>\n",
              "      <td>AS Yadav</td>\n",
              "      <td>M. A. Chidambaram Stadium</td>\n",
              "      <td>Nigel Llong</td>\n",
              "      <td>Nitin Menon</td>\n",
              "      <td>Ian Gould</td>\n",
              "    </tr>\n",
              "    <tr>\n",
              "      <th>753</th>\n",
              "      <td>11413</td>\n",
              "      <td>IPL-2019</td>\n",
              "      <td>Visakhapatnam</td>\n",
              "      <td>08-05-2019</td>\n",
              "      <td>Sunrisers Hyderabad</td>\n",
              "      <td>Delhi Capitals</td>\n",
              "      <td>Delhi Capitals</td>\n",
              "      <td>field</td>\n",
              "      <td>normal</td>\n",
              "      <td>0</td>\n",
              "      <td>Delhi Capitals</td>\n",
              "      <td>0</td>\n",
              "      <td>2</td>\n",
              "      <td>RR Pant</td>\n",
              "      <td>ACA-VDCA Stadium</td>\n",
              "      <td>NaN</td>\n",
              "      <td>NaN</td>\n",
              "      <td>NaN</td>\n",
              "    </tr>\n",
              "    <tr>\n",
              "      <th>754</th>\n",
              "      <td>11414</td>\n",
              "      <td>IPL-2019</td>\n",
              "      <td>Visakhapatnam</td>\n",
              "      <td>10-05-2019</td>\n",
              "      <td>Delhi Capitals</td>\n",
              "      <td>Chennai Super Kings</td>\n",
              "      <td>Chennai Super Kings</td>\n",
              "      <td>field</td>\n",
              "      <td>normal</td>\n",
              "      <td>0</td>\n",
              "      <td>Chennai Super Kings</td>\n",
              "      <td>0</td>\n",
              "      <td>6</td>\n",
              "      <td>F du Plessis</td>\n",
              "      <td>ACA-VDCA Stadium</td>\n",
              "      <td>Sundaram Ravi</td>\n",
              "      <td>Bruce Oxenford</td>\n",
              "      <td>Chettithody Shamshuddin</td>\n",
              "    </tr>\n",
              "    <tr>\n",
              "      <th>755</th>\n",
              "      <td>11415</td>\n",
              "      <td>IPL-2019</td>\n",
              "      <td>Hyderabad</td>\n",
              "      <td>12-05-2019</td>\n",
              "      <td>Mumbai Indians</td>\n",
              "      <td>Chennai Super Kings</td>\n",
              "      <td>Mumbai Indians</td>\n",
              "      <td>bat</td>\n",
              "      <td>normal</td>\n",
              "      <td>0</td>\n",
              "      <td>Mumbai Indians</td>\n",
              "      <td>1</td>\n",
              "      <td>0</td>\n",
              "      <td>JJ Bumrah</td>\n",
              "      <td>Rajiv Gandhi Intl. Cricket Stadium</td>\n",
              "      <td>Nitin Menon</td>\n",
              "      <td>Ian Gould</td>\n",
              "      <td>Nigel Llong</td>\n",
              "    </tr>\n",
              "  </tbody>\n",
              "</table>\n",
              "</div>"
            ],
            "text/plain": [
              "        id    Season           city        date                  team1  \\\n",
              "751  11347  IPL-2019         Mumbai  05-05-2019  Kolkata Knight Riders   \n",
              "752  11412  IPL-2019        Chennai  07-05-2019    Chennai Super Kings   \n",
              "753  11413  IPL-2019  Visakhapatnam  08-05-2019    Sunrisers Hyderabad   \n",
              "754  11414  IPL-2019  Visakhapatnam  10-05-2019         Delhi Capitals   \n",
              "755  11415  IPL-2019      Hyderabad  12-05-2019         Mumbai Indians   \n",
              "\n",
              "                   team2          toss_winner toss_decision  result  \\\n",
              "751       Mumbai Indians       Mumbai Indians         field  normal   \n",
              "752       Mumbai Indians  Chennai Super Kings           bat  normal   \n",
              "753       Delhi Capitals       Delhi Capitals         field  normal   \n",
              "754  Chennai Super Kings  Chennai Super Kings         field  normal   \n",
              "755  Chennai Super Kings       Mumbai Indians           bat  normal   \n",
              "\n",
              "     dl_applied               winner  win_by_runs  win_by_wickets  \\\n",
              "751           0       Mumbai Indians            0               9   \n",
              "752           0       Mumbai Indians            0               6   \n",
              "753           0       Delhi Capitals            0               2   \n",
              "754           0  Chennai Super Kings            0               6   \n",
              "755           0       Mumbai Indians            1               0   \n",
              "\n",
              "    player_of_match                               venue        umpire1  \\\n",
              "751       HH Pandya                    Wankhede Stadium  Nanda Kishore   \n",
              "752        AS Yadav           M. A. Chidambaram Stadium    Nigel Llong   \n",
              "753         RR Pant                    ACA-VDCA Stadium            NaN   \n",
              "754    F du Plessis                    ACA-VDCA Stadium  Sundaram Ravi   \n",
              "755       JJ Bumrah  Rajiv Gandhi Intl. Cricket Stadium    Nitin Menon   \n",
              "\n",
              "            umpire2                  umpire3  \n",
              "751        O Nandan                   S Ravi  \n",
              "752     Nitin Menon                Ian Gould  \n",
              "753             NaN                      NaN  \n",
              "754  Bruce Oxenford  Chettithody Shamshuddin  \n",
              "755       Ian Gould              Nigel Llong  "
            ]
          },
          "execution_count": 4,
          "metadata": {},
          "output_type": "execute_result"
        }
      ],
      "source": [
        "ipl.tail()"
      ]
    },
    {
      "cell_type": "markdown",
      "id": "c6a01a05",
      "metadata": {
        "papermill": {
          "duration": 0.030342,
          "end_time": "2021-11-29T21:37:56.491491",
          "exception": false,
          "start_time": "2021-11-29T21:37:56.461149",
          "status": "completed"
        },
        "tags": [],
        "id": "c6a01a05"
      },
      "source": [
        "Showing how many rows and columns"
      ]
    },
    {
      "cell_type": "markdown",
      "id": "135e0345",
      "metadata": {
        "papermill": {
          "duration": 0.028693,
          "end_time": "2021-11-29T21:37:56.549378",
          "exception": false,
          "start_time": "2021-11-29T21:37:56.520685",
          "status": "completed"
        },
        "tags": [],
        "id": "135e0345"
      },
      "source": []
    },
    {
      "cell_type": "code",
      "execution_count": null,
      "id": "8e92543e",
      "metadata": {
        "execution": {
          "iopub.execute_input": "2021-11-29T21:37:56.613485Z",
          "iopub.status.busy": "2021-11-29T21:37:56.612735Z",
          "iopub.status.idle": "2021-11-29T21:37:56.615351Z",
          "shell.execute_reply": "2021-11-29T21:37:56.615897Z",
          "shell.execute_reply.started": "2021-11-29T20:26:37.422116Z"
        },
        "papermill": {
          "duration": 0.037376,
          "end_time": "2021-11-29T21:37:56.616088",
          "exception": false,
          "start_time": "2021-11-29T21:37:56.578712",
          "status": "completed"
        },
        "tags": [],
        "id": "8e92543e",
        "outputId": "10010b27-24c5-4678-bad6-48128e28b7c4"
      },
      "outputs": [
        {
          "data": {
            "text/plain": [
              "(756, 18)"
            ]
          },
          "execution_count": 5,
          "metadata": {},
          "output_type": "execute_result"
        }
      ],
      "source": [
        "ipl.shape"
      ]
    },
    {
      "cell_type": "code",
      "execution_count": null,
      "id": "b5edf047",
      "metadata": {
        "execution": {
          "iopub.execute_input": "2021-11-29T21:37:56.680487Z",
          "iopub.status.busy": "2021-11-29T21:37:56.679809Z",
          "iopub.status.idle": "2021-11-29T21:37:56.693499Z",
          "shell.execute_reply": "2021-11-29T21:37:56.694206Z",
          "shell.execute_reply.started": "2021-11-29T20:26:37.632112Z"
        },
        "papermill": {
          "duration": 0.047609,
          "end_time": "2021-11-29T21:37:56.694399",
          "exception": false,
          "start_time": "2021-11-29T21:37:56.646790",
          "status": "completed"
        },
        "tags": [],
        "id": "b5edf047",
        "outputId": "e51999b1-100c-452d-cdc4-afb1e3063793"
      },
      "outputs": [
        {
          "data": {
            "text/plain": [
              "CH Gayle          21\n",
              "AB de Villiers    20\n",
              "RG Sharma         17\n",
              "MS Dhoni          17\n",
              "DA Warner         17\n",
              "                  ..\n",
              "PD Collingwood     1\n",
              "NV Ojha            1\n",
              "AC Voges           1\n",
              "J Theron           1\n",
              "S Hetmyer          1\n",
              "Name: player_of_match, Length: 226, dtype: int64"
            ]
          },
          "execution_count": 6,
          "metadata": {},
          "output_type": "execute_result"
        }
      ],
      "source": [
        "ipl['player_of_match'].value_counts()"
      ]
    },
    {
      "cell_type": "code",
      "execution_count": null,
      "id": "5b546e92",
      "metadata": {
        "execution": {
          "iopub.execute_input": "2021-11-29T21:37:56.758617Z",
          "iopub.status.busy": "2021-11-29T21:37:56.756163Z",
          "iopub.status.idle": "2021-11-29T21:37:56.764391Z",
          "shell.execute_reply": "2021-11-29T21:37:56.764927Z",
          "shell.execute_reply.started": "2021-11-29T20:26:37.859459Z"
        },
        "papermill": {
          "duration": 0.04105,
          "end_time": "2021-11-29T21:37:56.765131",
          "exception": false,
          "start_time": "2021-11-29T21:37:56.724081",
          "status": "completed"
        },
        "tags": [],
        "id": "5b546e92",
        "outputId": "08842009-9f92-4951-d04a-f1f390ea75aa"
      },
      "outputs": [
        {
          "data": {
            "text/plain": [
              "CH Gayle          21\n",
              "AB de Villiers    20\n",
              "RG Sharma         17\n",
              "MS Dhoni          17\n",
              "DA Warner         17\n",
              "                  ..\n",
              "PD Collingwood     1\n",
              "NV Ojha            1\n",
              "AC Voges           1\n",
              "J Theron           1\n",
              "S Hetmyer          1\n",
              "Name: player_of_match, Length: 226, dtype: int64"
            ]
          },
          "execution_count": 7,
          "metadata": {},
          "output_type": "execute_result"
        }
      ],
      "source": [
        "ipl['player_of_match'].value_counts()[0:]#show the column with most player of the match"
      ]
    },
    {
      "cell_type": "code",
      "execution_count": null,
      "id": "aa5fa95d",
      "metadata": {
        "execution": {
          "iopub.execute_input": "2021-11-29T21:37:56.828986Z",
          "iopub.status.busy": "2021-11-29T21:37:56.828347Z",
          "iopub.status.idle": "2021-11-29T21:37:56.836507Z",
          "shell.execute_reply": "2021-11-29T21:37:56.837003Z",
          "shell.execute_reply.started": "2021-11-29T20:26:38.060914Z"
        },
        "papermill": {
          "duration": 0.041651,
          "end_time": "2021-11-29T21:37:56.837213",
          "exception": false,
          "start_time": "2021-11-29T21:37:56.795562",
          "status": "completed"
        },
        "tags": [],
        "id": "aa5fa95d",
        "outputId": "23179639-3703-4a98-ea22-5b6a4475868c"
      },
      "outputs": [
        {
          "data": {
            "text/plain": [
              "CH Gayle          21\n",
              "AB de Villiers    20\n",
              "RG Sharma         17\n",
              "MS Dhoni          17\n",
              "DA Warner         17\n",
              "Name: player_of_match, dtype: int64"
            ]
          },
          "execution_count": 8,
          "metadata": {},
          "output_type": "execute_result"
        }
      ],
      "source": [
        "ipl['player_of_match'].value_counts()[0:5]#showing first five only"
      ]
    },
    {
      "cell_type": "code",
      "execution_count": null,
      "id": "fde33182",
      "metadata": {
        "execution": {
          "iopub.execute_input": "2021-11-29T21:37:56.901708Z",
          "iopub.status.busy": "2021-11-29T21:37:56.900965Z",
          "iopub.status.idle": "2021-11-29T21:37:56.908136Z",
          "shell.execute_reply": "2021-11-29T21:37:56.908624Z",
          "shell.execute_reply.started": "2021-11-29T20:26:38.270305Z"
        },
        "papermill": {
          "duration": 0.040351,
          "end_time": "2021-11-29T21:37:56.908824",
          "exception": false,
          "start_time": "2021-11-29T21:37:56.868473",
          "status": "completed"
        },
        "tags": [],
        "id": "fde33182",
        "outputId": "50359cea-cfd2-4e6d-c243-a4a391b5daf6"
      },
      "outputs": [
        {
          "data": {
            "text/plain": [
              "['CH Gayle', 'AB de Villiers', 'RG Sharma', 'MS Dhoni', 'DA Warner']"
            ]
          },
          "execution_count": 9,
          "metadata": {},
          "output_type": "execute_result"
        }
      ],
      "source": [
        "list(ipl['player_of_match'].value_counts()[0:5].keys())#showing it's key value only"
      ]
    },
    {
      "cell_type": "code",
      "execution_count": null,
      "id": "fe6b4eb9",
      "metadata": {
        "execution": {
          "iopub.execute_input": "2021-11-29T21:37:56.973415Z",
          "iopub.status.busy": "2021-11-29T21:37:56.972644Z",
          "iopub.status.idle": "2021-11-29T21:37:57.207723Z",
          "shell.execute_reply": "2021-11-29T21:37:57.207136Z",
          "shell.execute_reply.started": "2021-11-29T20:55:21.544596Z"
        },
        "papermill": {
          "duration": 0.268769,
          "end_time": "2021-11-29T21:37:57.207878",
          "exception": false,
          "start_time": "2021-11-29T21:37:56.939109",
          "status": "completed"
        },
        "tags": [],
        "id": "fe6b4eb9",
        "outputId": "de854e76-fe73-45ea-d1ea-58a17c42901e"
      },
      "outputs": [
        {
          "data": {
            "image/png": "[encoded data removed]",
            "text/plain": [
              "<Figure size 576x360 with 1 Axes>"
            ]
          },
          "metadata": {
            "needs_background": "light"
          },
          "output_type": "display_data"
        }
      ],
      "source": [
        "plt.figure(figsize=(8,5))\n",
        "plt.bar(list(ipl['player_of_match'].value_counts()[0:5].keys()) , list(ipl['player_of_match'].value_counts()[0:5]),color='g')\n",
        "plt.show()"
      ]
    },
    {
      "cell_type": "code",
      "execution_count": null,
      "id": "ceae4bda",
      "metadata": {
        "execution": {
          "iopub.execute_input": "2021-11-29T21:37:57.274583Z",
          "iopub.status.busy": "2021-11-29T21:37:57.273635Z",
          "iopub.status.idle": "2021-11-29T21:37:57.281874Z",
          "shell.execute_reply": "2021-11-29T21:37:57.281341Z",
          "shell.execute_reply.started": "2021-11-29T20:26:39.565133Z"
        },
        "papermill": {
          "duration": 0.041812,
          "end_time": "2021-11-29T21:37:57.282013",
          "exception": false,
          "start_time": "2021-11-29T21:37:57.240201",
          "status": "completed"
        },
        "tags": [],
        "id": "ceae4bda",
        "outputId": "5f306771-354f-4c7d-a30d-e0380accf495"
      },
      "outputs": [
        {
          "data": {
            "text/plain": [
              "normal       743\n",
              "tie            9\n",
              "no result      4\n",
              "Name: result, dtype: int64"
            ]
          },
          "execution_count": 11,
          "metadata": {},
          "output_type": "execute_result"
        }
      ],
      "source": [
        "ipl['result'].value_counts()#Geting the frequency of results column"
      ]
    },
    {
      "cell_type": "code",
      "execution_count": null,
      "id": "12e4f13e",
      "metadata": {
        "execution": {
          "iopub.execute_input": "2021-11-29T21:37:57.353255Z",
          "iopub.status.busy": "2021-11-29T21:37:57.352576Z",
          "iopub.status.idle": "2021-11-29T21:37:57.358680Z",
          "shell.execute_reply": "2021-11-29T21:37:57.358026Z",
          "shell.execute_reply.started": "2021-11-29T20:26:39.758385Z"
        },
        "papermill": {
          "duration": 0.04451,
          "end_time": "2021-11-29T21:37:57.358846",
          "exception": false,
          "start_time": "2021-11-29T21:37:57.314336",
          "status": "completed"
        },
        "tags": [],
        "id": "12e4f13e",
        "outputId": "b7874728-b232-458c-dd57-e8e8145f77bd"
      },
      "outputs": [
        {
          "data": {
            "text/plain": [
              "Mumbai Indians                 98\n",
              "Kolkata Knight Riders          92\n",
              "Chennai Super Kings            89\n",
              "Royal Challengers Bangalore    81\n",
              "Kings XI Punjab                81\n",
              "Delhi Daredevils               80\n",
              "Rajasthan Royals               80\n",
              "Sunrisers Hyderabad            46\n",
              "Deccan Chargers                43\n",
              "Pune Warriors                  20\n",
              "Gujarat Lions                  15\n",
              "Delhi Capitals                 10\n",
              "Kochi Tuskers Kerala            8\n",
              "Rising Pune Supergiants         7\n",
              "Rising Pune Supergiant          6\n",
              "Name: toss_winner, dtype: int64"
            ]
          },
          "execution_count": 12,
          "metadata": {},
          "output_type": "execute_result"
        }
      ],
      "source": [
        "ipl['toss_winner'].value_counts()#Getting the value of toss winner"
      ]
    },
    {
      "cell_type": "code",
      "execution_count": null,
      "id": "46320a87",
      "metadata": {
        "execution": {
          "iopub.execute_input": "2021-11-29T21:37:57.433476Z",
          "iopub.status.busy": "2021-11-29T21:37:57.432667Z",
          "iopub.status.idle": "2021-11-29T21:37:57.435539Z",
          "shell.execute_reply": "2021-11-29T21:37:57.436018Z",
          "shell.execute_reply.started": "2021-11-29T20:26:39.998239Z"
        },
        "papermill": {
          "duration": 0.042668,
          "end_time": "2021-11-29T21:37:57.436219",
          "exception": false,
          "start_time": "2021-11-29T21:37:57.393551",
          "status": "completed"
        },
        "tags": [],
        "id": "46320a87"
      },
      "outputs": [],
      "source": [
        "batting_first=ipl[ipl['win_by_runs']!=0]#extracting the record of batting first inings"
      ]
    },
    {
      "cell_type": "code",
      "execution_count": null,
      "id": "58610652",
      "metadata": {
        "execution": {
          "iopub.execute_input": "2021-11-29T21:37:57.505409Z",
          "iopub.status.busy": "2021-11-29T21:37:57.504457Z",
          "iopub.status.idle": "2021-11-29T21:37:57.523129Z",
          "shell.execute_reply": "2021-11-29T21:37:57.522482Z",
          "shell.execute_reply.started": "2021-11-29T20:26:40.221310Z"
        },
        "papermill": {
          "duration": 0.053677,
          "end_time": "2021-11-29T21:37:57.523275",
          "exception": false,
          "start_time": "2021-11-29T21:37:57.469598",
          "status": "completed"
        },
        "tags": [],
        "id": "58610652",
        "outputId": "17ac298e-0128-4eb4-b334-8d4e4ea12c90"
      },
      "outputs": [
        {
          "data": {
            "text/html": [
              "<div>\n",
              "<style scoped>\n",
              "    .dataframe tbody tr th:only-of-type {\n",
              "        vertical-align: middle;\n",
              "    }\n",
              "\n",
              "    .dataframe tbody tr th {\n",
              "        vertical-align: top;\n",
              "    }\n",
              "\n",
              "    .dataframe thead th {\n",
              "        text-align: right;\n",
              "    }\n",
              "</style>\n",
              "<table border=\"1\" class=\"dataframe\">\n",
              "  <thead>\n",
              "    <tr style=\"text-align: right;\">\n",
              "      <th></th>\n",
              "      <th>id</th>\n",
              "      <th>Season</th>\n",
              "      <th>city</th>\n",
              "      <th>date</th>\n",
              "      <th>team1</th>\n",
              "      <th>team2</th>\n",
              "      <th>toss_winner</th>\n",
              "      <th>toss_decision</th>\n",
              "      <th>result</th>\n",
              "      <th>dl_applied</th>\n",
              "      <th>winner</th>\n",
              "      <th>win_by_runs</th>\n",
              "      <th>win_by_wickets</th>\n",
              "      <th>player_of_match</th>\n",
              "      <th>venue</th>\n",
              "      <th>umpire1</th>\n",
              "      <th>umpire2</th>\n",
              "      <th>umpire3</th>\n",
              "    </tr>\n",
              "  </thead>\n",
              "  <tbody>\n",
              "    <tr>\n",
              "      <th>0</th>\n",
              "      <td>1</td>\n",
              "      <td>IPL-2017</td>\n",
              "      <td>Hyderabad</td>\n",
              "      <td>05-04-2017</td>\n",
              "      <td>Sunrisers Hyderabad</td>\n",
              "      <td>Royal Challengers Bangalore</td>\n",
              "      <td>Royal Challengers Bangalore</td>\n",
              "      <td>field</td>\n",
              "      <td>normal</td>\n",
              "      <td>0</td>\n",
              "      <td>Sunrisers Hyderabad</td>\n",
              "      <td>35</td>\n",
              "      <td>0</td>\n",
              "      <td>Yuvraj Singh</td>\n",
              "      <td>Rajiv Gandhi International Stadium, Uppal</td>\n",
              "      <td>AY Dandekar</td>\n",
              "      <td>NJ Llong</td>\n",
              "      <td>NaN</td>\n",
              "    </tr>\n",
              "    <tr>\n",
              "      <th>4</th>\n",
              "      <td>5</td>\n",
              "      <td>IPL-2017</td>\n",
              "      <td>Bangalore</td>\n",
              "      <td>08-04-2017</td>\n",
              "      <td>Royal Challengers Bangalore</td>\n",
              "      <td>Delhi Daredevils</td>\n",
              "      <td>Royal Challengers Bangalore</td>\n",
              "      <td>bat</td>\n",
              "      <td>normal</td>\n",
              "      <td>0</td>\n",
              "      <td>Royal Challengers Bangalore</td>\n",
              "      <td>15</td>\n",
              "      <td>0</td>\n",
              "      <td>KM Jadhav</td>\n",
              "      <td>M Chinnaswamy Stadium</td>\n",
              "      <td>NaN</td>\n",
              "      <td>NaN</td>\n",
              "      <td>NaN</td>\n",
              "    </tr>\n",
              "    <tr>\n",
              "      <th>8</th>\n",
              "      <td>9</td>\n",
              "      <td>IPL-2017</td>\n",
              "      <td>Pune</td>\n",
              "      <td>11-04-2017</td>\n",
              "      <td>Delhi Daredevils</td>\n",
              "      <td>Rising Pune Supergiant</td>\n",
              "      <td>Rising Pune Supergiant</td>\n",
              "      <td>field</td>\n",
              "      <td>normal</td>\n",
              "      <td>0</td>\n",
              "      <td>Delhi Daredevils</td>\n",
              "      <td>97</td>\n",
              "      <td>0</td>\n",
              "      <td>SV Samson</td>\n",
              "      <td>Maharashtra Cricket Association Stadium</td>\n",
              "      <td>AY Dandekar</td>\n",
              "      <td>S Ravi</td>\n",
              "      <td>NaN</td>\n",
              "    </tr>\n",
              "    <tr>\n",
              "      <th>13</th>\n",
              "      <td>14</td>\n",
              "      <td>IPL-2017</td>\n",
              "      <td>Kolkata</td>\n",
              "      <td>15-04-2017</td>\n",
              "      <td>Kolkata Knight Riders</td>\n",
              "      <td>Sunrisers Hyderabad</td>\n",
              "      <td>Sunrisers Hyderabad</td>\n",
              "      <td>field</td>\n",
              "      <td>normal</td>\n",
              "      <td>0</td>\n",
              "      <td>Kolkata Knight Riders</td>\n",
              "      <td>17</td>\n",
              "      <td>0</td>\n",
              "      <td>RV Uthappa</td>\n",
              "      <td>Eden Gardens</td>\n",
              "      <td>AY Dandekar</td>\n",
              "      <td>NJ Llong</td>\n",
              "      <td>NaN</td>\n",
              "    </tr>\n",
              "    <tr>\n",
              "      <th>14</th>\n",
              "      <td>15</td>\n",
              "      <td>IPL-2017</td>\n",
              "      <td>Delhi</td>\n",
              "      <td>15-04-2017</td>\n",
              "      <td>Delhi Daredevils</td>\n",
              "      <td>Kings XI Punjab</td>\n",
              "      <td>Delhi Daredevils</td>\n",
              "      <td>bat</td>\n",
              "      <td>normal</td>\n",
              "      <td>0</td>\n",
              "      <td>Delhi Daredevils</td>\n",
              "      <td>51</td>\n",
              "      <td>0</td>\n",
              "      <td>CJ Anderson</td>\n",
              "      <td>Feroz Shah Kotla</td>\n",
              "      <td>YC Barde</td>\n",
              "      <td>Nitin Menon</td>\n",
              "      <td>NaN</td>\n",
              "    </tr>\n",
              "  </tbody>\n",
              "</table>\n",
              "</div>"
            ],
            "text/plain": [
              "    id    Season       city        date                        team1  \\\n",
              "0    1  IPL-2017  Hyderabad  05-04-2017          Sunrisers Hyderabad   \n",
              "4    5  IPL-2017  Bangalore  08-04-2017  Royal Challengers Bangalore   \n",
              "8    9  IPL-2017       Pune  11-04-2017             Delhi Daredevils   \n",
              "13  14  IPL-2017    Kolkata  15-04-2017        Kolkata Knight Riders   \n",
              "14  15  IPL-2017      Delhi  15-04-2017             Delhi Daredevils   \n",
              "\n",
              "                          team2                  toss_winner toss_decision  \\\n",
              "0   Royal Challengers Bangalore  Royal Challengers Bangalore         field   \n",
              "4              Delhi Daredevils  Royal Challengers Bangalore           bat   \n",
              "8        Rising Pune Supergiant       Rising Pune Supergiant         field   \n",
              "13          Sunrisers Hyderabad          Sunrisers Hyderabad         field   \n",
              "14              Kings XI Punjab             Delhi Daredevils           bat   \n",
              "\n",
              "    result  dl_applied                       winner  win_by_runs  \\\n",
              "0   normal           0          Sunrisers Hyderabad           35   \n",
              "4   normal           0  Royal Challengers Bangalore           15   \n",
              "8   normal           0             Delhi Daredevils           97   \n",
              "13  normal           0        Kolkata Knight Riders           17   \n",
              "14  normal           0             Delhi Daredevils           51   \n",
              "\n",
              "    win_by_wickets player_of_match                                      venue  \\\n",
              "0                0    Yuvraj Singh  Rajiv Gandhi International Stadium, Uppal   \n",
              "4                0       KM Jadhav                      M Chinnaswamy Stadium   \n",
              "8                0       SV Samson    Maharashtra Cricket Association Stadium   \n",
              "13               0      RV Uthappa                               Eden Gardens   \n",
              "14               0     CJ Anderson                           Feroz Shah Kotla   \n",
              "\n",
              "        umpire1      umpire2 umpire3  \n",
              "0   AY Dandekar     NJ Llong     NaN  \n",
              "4           NaN          NaN     NaN  \n",
              "8   AY Dandekar       S Ravi     NaN  \n",
              "13  AY Dandekar     NJ Llong     NaN  \n",
              "14     YC Barde  Nitin Menon     NaN  "
            ]
          },
          "execution_count": 14,
          "metadata": {},
          "output_type": "execute_result"
        }
      ],
      "source": [
        "batting_first.head()"
      ]
    },
    {
      "cell_type": "code",
      "execution_count": null,
      "id": "841da195",
      "metadata": {
        "execution": {
          "iopub.execute_input": "2021-11-29T21:37:57.611730Z",
          "iopub.status.busy": "2021-11-29T21:37:57.610706Z",
          "iopub.status.idle": "2021-11-29T21:37:57.814574Z",
          "shell.execute_reply": "2021-11-29T21:37:57.815040Z",
          "shell.execute_reply.started": "2021-11-29T20:27:45.908966Z"
        },
        "papermill": {
          "duration": 0.260085,
          "end_time": "2021-11-29T21:37:57.815287",
          "exception": false,
          "start_time": "2021-11-29T21:37:57.555202",
          "status": "completed"
        },
        "tags": [],
        "id": "841da195",
        "outputId": "bf1c0c33-1898-41f6-f3a0-ce6f1d09dd0e"
      },
      "outputs": [
        {
          "data": {
            "image/png": "[encoded data removed]",
            "text/plain": [
              "<Figure size 576x504 with 1 Axes>"
            ]
          },
          "metadata": {
            "needs_background": "light"
          },
          "output_type": "display_data"
        }
      ],
      "source": [
        "plt.figure(figsize=(8,7))\n",
        "plt.hist(batting_first['win_by_runs'])\n",
        "plt.title('Distribution of runs')\n",
        "plt.xlabel(\"Runs\")\n",
        "plt.show()"
      ]
    },
    {
      "cell_type": "code",
      "execution_count": null,
      "id": "4b3f6884",
      "metadata": {
        "execution": {
          "iopub.execute_input": "2021-11-29T21:37:57.887169Z",
          "iopub.status.busy": "2021-11-29T21:37:57.886221Z",
          "iopub.status.idle": "2021-11-29T21:37:57.891936Z",
          "shell.execute_reply": "2021-11-29T21:37:57.892490Z",
          "shell.execute_reply.started": "2021-11-29T20:30:28.871659Z"
        },
        "papermill": {
          "duration": 0.044268,
          "end_time": "2021-11-29T21:37:57.892668",
          "exception": false,
          "start_time": "2021-11-29T21:37:57.848400",
          "status": "completed"
        },
        "tags": [],
        "id": "4b3f6884",
        "outputId": "47abf1d6-6dd0-44bc-e29c-deb92ca64c26"
      },
      "outputs": [
        {
          "data": {
            "text/plain": [
              "Mumbai Indians                 109\n",
              "Chennai Super Kings            100\n",
              "Kolkata Knight Riders           92\n",
              "Royal Challengers Bangalore     84\n",
              "Kings XI Punjab                 82\n",
              "Rajasthan Royals                75\n",
              "Delhi Daredevils                67\n",
              "Sunrisers Hyderabad             58\n",
              "Deccan Chargers                 29\n",
              "Gujarat Lions                   13\n",
              "Pune Warriors                   12\n",
              "Rising Pune Supergiant          10\n",
              "Delhi Capitals                  10\n",
              "Kochi Tuskers Kerala             6\n",
              "Rising Pune Supergiants          5\n",
              "Name: winner, dtype: int64"
            ]
          },
          "execution_count": 16,
          "metadata": {},
          "output_type": "execute_result"
        }
      ],
      "source": [
        "ipl['winner'].value_counts()#which team won most matches"
      ]
    },
    {
      "cell_type": "code",
      "execution_count": null,
      "id": "5447d7a9",
      "metadata": {
        "execution": {
          "iopub.execute_input": "2021-11-29T21:37:57.963474Z",
          "iopub.status.busy": "2021-11-29T21:37:57.962451Z",
          "iopub.status.idle": "2021-11-29T21:37:57.969198Z",
          "shell.execute_reply": "2021-11-29T21:37:57.969698Z",
          "shell.execute_reply.started": "2021-11-29T20:51:13.523722Z"
        },
        "papermill": {
          "duration": 0.043425,
          "end_time": "2021-11-29T21:37:57.969865",
          "exception": false,
          "start_time": "2021-11-29T21:37:57.926440",
          "status": "completed"
        },
        "tags": [],
        "id": "5447d7a9",
        "outputId": "bec14d92-150c-48ae-bd6b-56d26c42df29"
      },
      "outputs": [
        {
          "data": {
            "text/plain": [
              "['Mumbai Indians', 'Chennai Super Kings', 'Kings XI Punjab']"
            ]
          },
          "execution_count": 17,
          "metadata": {},
          "output_type": "execute_result"
        }
      ],
      "source": [
        "list(batting_first['winner'].value_counts()[0:3].keys())"
      ]
    },
    {
      "cell_type": "code",
      "execution_count": null,
      "id": "81257e91",
      "metadata": {
        "execution": {
          "iopub.execute_input": "2021-11-29T21:37:58.045647Z",
          "iopub.status.busy": "2021-11-29T21:37:58.044633Z",
          "iopub.status.idle": "2021-11-29T21:37:58.203102Z",
          "shell.execute_reply": "2021-11-29T21:37:58.202475Z",
          "shell.execute_reply.started": "2021-11-29T20:56:31.846191Z"
        },
        "papermill": {
          "duration": 0.199355,
          "end_time": "2021-11-29T21:37:58.203237",
          "exception": false,
          "start_time": "2021-11-29T21:37:58.003882",
          "status": "completed"
        },
        "tags": [],
        "id": "81257e91",
        "outputId": "e0f9edf6-da2a-4bae-99a5-b51f1f3413ab"
      },
      "outputs": [
        {
          "data": {
            "image/png": "[encoded data removed]",
            "text/plain": [
              "<Figure size 432x432 with 1 Axes>"
            ]
          },
          "metadata": {
            "needs_background": "light"
          },
          "output_type": "display_data"
        }
      ],
      "source": [
        "#Win after batting first\n",
        "plt.figure(figsize=(6,6))\n",
        "plt.bar(list(batting_first['winner'].value_counts()[0:3].keys()) ,list(batting_first['winner'].value_counts()[0:3]),color=['green','yellow','blue'] )\n",
        "plt.show()"
      ]
    },
    {
      "cell_type": "markdown",
      "id": "7685607f",
      "metadata": {
        "papermill": {
          "duration": 0.033685,
          "end_time": "2021-11-29T21:37:58.271341",
          "exception": false,
          "start_time": "2021-11-29T21:37:58.237656",
          "status": "completed"
        },
        "tags": [],
        "id": "7685607f"
      },
      "source": [
        "Making pie charts"
      ]
    },
    {
      "cell_type": "code",
      "execution_count": null,
      "id": "bc3a490d",
      "metadata": {
        "execution": {
          "iopub.execute_input": "2021-11-29T21:37:58.346901Z",
          "iopub.status.busy": "2021-11-29T21:37:58.345939Z",
          "iopub.status.idle": "2021-11-29T21:37:58.583458Z",
          "shell.execute_reply": "2021-11-29T21:37:58.583962Z",
          "shell.execute_reply.started": "2021-11-29T21:02:54.832004Z"
        },
        "papermill": {
          "duration": 0.278272,
          "end_time": "2021-11-29T21:37:58.584148",
          "exception": false,
          "start_time": "2021-11-29T21:37:58.305876",
          "status": "completed"
        },
        "tags": [],
        "id": "bc3a490d",
        "outputId": "e53ebfa1-e4bb-4a2e-8774-7bebc9d8ac58"
      },
      "outputs": [
        {
          "data": {
            "image/png": "[encoded data removed]",
            "text/plain": [
              "<Figure size 504x504 with 1 Axes>"
            ]
          },
          "metadata": {},
          "output_type": "display_data"
        }
      ],
      "source": [
        "plt.figure(figsize=(7,7))\n",
        "plt.pie(list(batting_first['winner'].value_counts()),labels=list(batting_first['winner'].value_counts().keys()) ,autopct= '%0.1f%% '  )\n",
        "plt.show()"
      ]
    },
    {
      "cell_type": "code",
      "execution_count": null,
      "id": "53e14431",
      "metadata": {
        "execution": {
          "iopub.execute_input": "2021-11-29T21:37:58.660273Z",
          "iopub.status.busy": "2021-11-29T21:37:58.659352Z",
          "iopub.status.idle": "2021-11-29T21:37:58.663888Z",
          "shell.execute_reply": "2021-11-29T21:37:58.664361Z",
          "shell.execute_reply.started": "2021-11-29T21:07:49.622525Z"
        },
        "papermill": {
          "duration": 0.044499,
          "end_time": "2021-11-29T21:37:58.664532",
          "exception": false,
          "start_time": "2021-11-29T21:37:58.620033",
          "status": "completed"
        },
        "tags": [],
        "id": "53e14431"
      },
      "outputs": [],
      "source": [
        "#those team which bat in the second inings\n",
        "second_batting=ipl[ipl['win_by_wickets']!=0]"
      ]
    },
    {
      "cell_type": "code",
      "execution_count": null,
      "id": "33093adf",
      "metadata": {
        "execution": {
          "iopub.execute_input": "2021-11-29T21:37:58.739919Z",
          "iopub.status.busy": "2021-11-29T21:37:58.738958Z",
          "iopub.status.idle": "2021-11-29T21:37:58.756769Z",
          "shell.execute_reply": "2021-11-29T21:37:58.757264Z",
          "shell.execute_reply.started": "2021-11-29T21:07:52.487394Z"
        },
        "papermill": {
          "duration": 0.057057,
          "end_time": "2021-11-29T21:37:58.757438",
          "exception": false,
          "start_time": "2021-11-29T21:37:58.700381",
          "status": "completed"
        },
        "tags": [],
        "id": "33093adf",
        "outputId": "3abab1bc-a1b9-483d-b814-32dcf195be50"
      },
      "outputs": [
        {
          "data": {
            "text/html": [
              "<div>\n",
              "<style scoped>\n",
              "    .dataframe tbody tr th:only-of-type {\n",
              "        vertical-align: middle;\n",
              "    }\n",
              "\n",
              "    .dataframe tbody tr th {\n",
              "        vertical-align: top;\n",
              "    }\n",
              "\n",
              "    .dataframe thead th {\n",
              "        text-align: right;\n",
              "    }\n",
              "</style>\n",
              "<table border=\"1\" class=\"dataframe\">\n",
              "  <thead>\n",
              "    <tr style=\"text-align: right;\">\n",
              "      <th></th>\n",
              "      <th>id</th>\n",
              "      <th>Season</th>\n",
              "      <th>city</th>\n",
              "      <th>date</th>\n",
              "      <th>team1</th>\n",
              "      <th>team2</th>\n",
              "      <th>toss_winner</th>\n",
              "      <th>toss_decision</th>\n",
              "      <th>result</th>\n",
              "      <th>dl_applied</th>\n",
              "      <th>winner</th>\n",
              "      <th>win_by_runs</th>\n",
              "      <th>win_by_wickets</th>\n",
              "      <th>player_of_match</th>\n",
              "      <th>venue</th>\n",
              "      <th>umpire1</th>\n",
              "      <th>umpire2</th>\n",
              "      <th>umpire3</th>\n",
              "    </tr>\n",
              "  </thead>\n",
              "  <tbody>\n",
              "    <tr>\n",
              "      <th>1</th>\n",
              "      <td>2</td>\n",
              "      <td>IPL-2017</td>\n",
              "      <td>Pune</td>\n",
              "      <td>06-04-2017</td>\n",
              "      <td>Mumbai Indians</td>\n",
              "      <td>Rising Pune Supergiant</td>\n",
              "      <td>Rising Pune Supergiant</td>\n",
              "      <td>field</td>\n",
              "      <td>normal</td>\n",
              "      <td>0</td>\n",
              "      <td>Rising Pune Supergiant</td>\n",
              "      <td>0</td>\n",
              "      <td>7</td>\n",
              "      <td>SPD Smith</td>\n",
              "      <td>Maharashtra Cricket Association Stadium</td>\n",
              "      <td>A Nand Kishore</td>\n",
              "      <td>S Ravi</td>\n",
              "      <td>NaN</td>\n",
              "    </tr>\n",
              "    <tr>\n",
              "      <th>2</th>\n",
              "      <td>3</td>\n",
              "      <td>IPL-2017</td>\n",
              "      <td>Rajkot</td>\n",
              "      <td>07-04-2017</td>\n",
              "      <td>Gujarat Lions</td>\n",
              "      <td>Kolkata Knight Riders</td>\n",
              "      <td>Kolkata Knight Riders</td>\n",
              "      <td>field</td>\n",
              "      <td>normal</td>\n",
              "      <td>0</td>\n",
              "      <td>Kolkata Knight Riders</td>\n",
              "      <td>0</td>\n",
              "      <td>10</td>\n",
              "      <td>CA Lynn</td>\n",
              "      <td>Saurashtra Cricket Association Stadium</td>\n",
              "      <td>Nitin Menon</td>\n",
              "      <td>CK Nandan</td>\n",
              "      <td>NaN</td>\n",
              "    </tr>\n",
              "    <tr>\n",
              "      <th>3</th>\n",
              "      <td>4</td>\n",
              "      <td>IPL-2017</td>\n",
              "      <td>Indore</td>\n",
              "      <td>08-04-2017</td>\n",
              "      <td>Rising Pune Supergiant</td>\n",
              "      <td>Kings XI Punjab</td>\n",
              "      <td>Kings XI Punjab</td>\n",
              "      <td>field</td>\n",
              "      <td>normal</td>\n",
              "      <td>0</td>\n",
              "      <td>Kings XI Punjab</td>\n",
              "      <td>0</td>\n",
              "      <td>6</td>\n",
              "      <td>GJ Maxwell</td>\n",
              "      <td>Holkar Cricket Stadium</td>\n",
              "      <td>AK Chaudhary</td>\n",
              "      <td>C Shamshuddin</td>\n",
              "      <td>NaN</td>\n",
              "    </tr>\n",
              "    <tr>\n",
              "      <th>5</th>\n",
              "      <td>6</td>\n",
              "      <td>IPL-2017</td>\n",
              "      <td>Hyderabad</td>\n",
              "      <td>09-04-2017</td>\n",
              "      <td>Gujarat Lions</td>\n",
              "      <td>Sunrisers Hyderabad</td>\n",
              "      <td>Sunrisers Hyderabad</td>\n",
              "      <td>field</td>\n",
              "      <td>normal</td>\n",
              "      <td>0</td>\n",
              "      <td>Sunrisers Hyderabad</td>\n",
              "      <td>0</td>\n",
              "      <td>9</td>\n",
              "      <td>Rashid Khan</td>\n",
              "      <td>Rajiv Gandhi International Stadium, Uppal</td>\n",
              "      <td>A Deshmukh</td>\n",
              "      <td>NJ Llong</td>\n",
              "      <td>NaN</td>\n",
              "    </tr>\n",
              "    <tr>\n",
              "      <th>6</th>\n",
              "      <td>7</td>\n",
              "      <td>IPL-2017</td>\n",
              "      <td>Mumbai</td>\n",
              "      <td>09-04-2017</td>\n",
              "      <td>Kolkata Knight Riders</td>\n",
              "      <td>Mumbai Indians</td>\n",
              "      <td>Mumbai Indians</td>\n",
              "      <td>field</td>\n",
              "      <td>normal</td>\n",
              "      <td>0</td>\n",
              "      <td>Mumbai Indians</td>\n",
              "      <td>0</td>\n",
              "      <td>4</td>\n",
              "      <td>N Rana</td>\n",
              "      <td>Wankhede Stadium</td>\n",
              "      <td>Nitin Menon</td>\n",
              "      <td>CK Nandan</td>\n",
              "      <td>NaN</td>\n",
              "    </tr>\n",
              "  </tbody>\n",
              "</table>\n",
              "</div>"
            ],
            "text/plain": [
              "   id    Season       city        date                   team1  \\\n",
              "1   2  IPL-2017       Pune  06-04-2017          Mumbai Indians   \n",
              "2   3  IPL-2017     Rajkot  07-04-2017           Gujarat Lions   \n",
              "3   4  IPL-2017     Indore  08-04-2017  Rising Pune Supergiant   \n",
              "5   6  IPL-2017  Hyderabad  09-04-2017           Gujarat Lions   \n",
              "6   7  IPL-2017     Mumbai  09-04-2017   Kolkata Knight Riders   \n",
              "\n",
              "                    team2             toss_winner toss_decision  result  \\\n",
              "1  Rising Pune Supergiant  Rising Pune Supergiant         field  normal   \n",
              "2   Kolkata Knight Riders   Kolkata Knight Riders         field  normal   \n",
              "3         Kings XI Punjab         Kings XI Punjab         field  normal   \n",
              "5     Sunrisers Hyderabad     Sunrisers Hyderabad         field  normal   \n",
              "6          Mumbai Indians          Mumbai Indians         field  normal   \n",
              "\n",
              "   dl_applied                  winner  win_by_runs  win_by_wickets  \\\n",
              "1           0  Rising Pune Supergiant            0               7   \n",
              "2           0   Kolkata Knight Riders            0              10   \n",
              "3           0         Kings XI Punjab            0               6   \n",
              "5           0     Sunrisers Hyderabad            0               9   \n",
              "6           0          Mumbai Indians            0               4   \n",
              "\n",
              "  player_of_match                                      venue         umpire1  \\\n",
              "1       SPD Smith    Maharashtra Cricket Association Stadium  A Nand Kishore   \n",
              "2         CA Lynn     Saurashtra Cricket Association Stadium     Nitin Menon   \n",
              "3      GJ Maxwell                     Holkar Cricket Stadium    AK Chaudhary   \n",
              "5     Rashid Khan  Rajiv Gandhi International Stadium, Uppal      A Deshmukh   \n",
              "6          N Rana                           Wankhede Stadium     Nitin Menon   \n",
              "\n",
              "         umpire2 umpire3  \n",
              "1         S Ravi     NaN  \n",
              "2      CK Nandan     NaN  \n",
              "3  C Shamshuddin     NaN  \n",
              "5       NJ Llong     NaN  \n",
              "6      CK Nandan     NaN  "
            ]
          },
          "execution_count": 21,
          "metadata": {},
          "output_type": "execute_result"
        }
      ],
      "source": [
        "second_batting.head()"
      ]
    },
    {
      "cell_type": "code",
      "execution_count": null,
      "id": "8ff11282",
      "metadata": {
        "execution": {
          "iopub.execute_input": "2021-11-29T21:37:58.837257Z",
          "iopub.status.busy": "2021-11-29T21:37:58.836461Z",
          "iopub.status.idle": "2021-11-29T21:37:58.839523Z",
          "shell.execute_reply": "2021-11-29T21:37:58.839987Z",
          "shell.execute_reply.started": "2021-11-29T21:10:49.722582Z"
        },
        "papermill": {
          "duration": 0.045935,
          "end_time": "2021-11-29T21:37:58.840160",
          "exception": false,
          "start_time": "2021-11-29T21:37:58.794225",
          "status": "completed"
        },
        "tags": [],
        "id": "8ff11282",
        "outputId": "03b94bce-caf4-4b9a-d5c3-0f791960ba3e"
      },
      "outputs": [
        {
          "data": {
            "text/plain": [
              "[85, 80, 71, 54, 41, 37, 18, 11, 6, 3]"
            ]
          },
          "execution_count": 22,
          "metadata": {},
          "output_type": "execute_result"
        }
      ],
      "source": [
        "list(second_batting['win_by_wickets'].value_counts())"
      ]
    },
    {
      "cell_type": "code",
      "execution_count": null,
      "id": "90bdfa8b",
      "metadata": {
        "execution": {
          "iopub.execute_input": "2021-11-29T21:37:58.917903Z",
          "iopub.status.busy": "2021-11-29T21:37:58.916709Z",
          "iopub.status.idle": "2021-11-29T21:37:59.142060Z",
          "shell.execute_reply": "2021-11-29T21:37:59.142603Z",
          "shell.execute_reply.started": "2021-11-29T21:13:38.586602Z"
        },
        "papermill": {
          "duration": 0.265911,
          "end_time": "2021-11-29T21:37:59.142771",
          "exception": false,
          "start_time": "2021-11-29T21:37:58.876860",
          "status": "completed"
        },
        "tags": [],
        "id": "90bdfa8b",
        "outputId": "d1432e78-5d73-4053-ae99-830dd61e0dc8"
      },
      "outputs": [
        {
          "data": {
            "image/png": "[encoded data removed]",
            "text/plain": [
              "<Figure size 504x504 with 1 Axes>"
            ]
          },
          "metadata": {
            "needs_background": "light"
          },
          "output_type": "display_data"
        }
      ],
      "source": [
        "#histagram for win by wickets\n",
        "plt.figure(figsize=(7,7))\n",
        "plt.hist(second_batting['win_by_wickets'],bins=20)\n",
        "plt.show()"
      ]
    },
    {
      "cell_type": "code",
      "execution_count": null,
      "id": "3c5a282a",
      "metadata": {
        "execution": {
          "iopub.execute_input": "2021-11-29T21:37:59.221903Z",
          "iopub.status.busy": "2021-11-29T21:37:59.220904Z",
          "iopub.status.idle": "2021-11-29T21:37:59.228231Z",
          "shell.execute_reply": "2021-11-29T21:37:59.228687Z",
          "shell.execute_reply.started": "2021-11-29T21:17:33.656865Z"
        },
        "papermill": {
          "duration": 0.048452,
          "end_time": "2021-11-29T21:37:59.228871",
          "exception": false,
          "start_time": "2021-11-29T21:37:59.180419",
          "status": "completed"
        },
        "tags": [],
        "id": "3c5a282a",
        "outputId": "2e15ba14-c0ce-4ef2-a903-64a43fb1f3c8"
      },
      "outputs": [
        {
          "data": {
            "text/plain": [
              "Kolkata Knight Riders          56\n",
              "Mumbai Indians                 50\n",
              "Royal Challengers Bangalore    48\n",
              "Chennai Super Kings            48\n",
              "Rajasthan Royals               46\n",
              "Kings XI Punjab                42\n",
              "Delhi Daredevils               42\n",
              "Sunrisers Hyderabad            27\n",
              "Gujarat Lions                  12\n",
              "Deccan Chargers                11\n",
              "Pune Warriors                   6\n",
              "Delhi Capitals                  6\n",
              "Rising Pune Supergiant          5\n",
              "Kochi Tuskers Kerala            4\n",
              "Rising Pune Supergiants         3\n",
              "Name: winner, dtype: int64"
            ]
          },
          "execution_count": 24,
          "metadata": {},
          "output_type": "execute_result"
        }
      ],
      "source": [
        "#which team won most matches by wickets\n",
        "second_batting['winner'].value_counts()"
      ]
    },
    {
      "cell_type": "code",
      "execution_count": null,
      "id": "49a82f29",
      "metadata": {
        "execution": {
          "iopub.execute_input": "2021-11-29T21:37:59.387899Z",
          "iopub.status.busy": "2021-11-29T21:37:59.367871Z",
          "iopub.status.idle": "2021-11-29T21:37:59.552873Z",
          "shell.execute_reply": "2021-11-29T21:37:59.552336Z",
          "shell.execute_reply.started": "2021-11-29T21:25:14.512302Z"
        },
        "papermill": {
          "duration": 0.286331,
          "end_time": "2021-11-29T21:37:59.553020",
          "exception": false,
          "start_time": "2021-11-29T21:37:59.266689",
          "status": "completed"
        },
        "tags": [],
        "id": "49a82f29",
        "outputId": "a8e90117-95a6-45b1-fa74-99b5cafec07a"
      },
      "outputs": [
        {
          "data": {
            "image/png": "[encoded data removed]",
            "text/plain": [
              "<Figure size 720x360 with 1 Axes>"
            ]
          },
          "metadata": {
            "needs_background": "light"
          },
          "output_type": "display_data"
        }
      ],
      "source": [
        "#making bar which team won most matches by batting second\n",
        "plt.figure(figsize=(10,5))\n",
        "plt.bar(list(second_batting['winner'].value_counts()[0:5].keys()) , list(second_batting['winner'].value_counts()[0:5]),color='b')\n",
        "plt.show()\n"
      ]
    },
    {
      "cell_type": "code",
      "execution_count": null,
      "id": "9277d6c4",
      "metadata": {
        "execution": {
          "iopub.execute_input": "2021-11-29T21:37:59.657783Z",
          "iopub.status.busy": "2021-11-29T21:37:59.638972Z",
          "iopub.status.idle": "2021-11-29T21:37:59.868587Z",
          "shell.execute_reply": "2021-11-29T21:37:59.869243Z",
          "shell.execute_reply.started": "2021-11-29T21:27:37.729948Z"
        },
        "papermill": {
          "duration": 0.276869,
          "end_time": "2021-11-29T21:37:59.869423",
          "exception": false,
          "start_time": "2021-11-29T21:37:59.592554",
          "status": "completed"
        },
        "tags": [],
        "id": "9277d6c4",
        "outputId": "36ef4fd6-3ce8-4011-c734-ed6a72cfe3df"
      },
      "outputs": [
        {
          "data": {
            "image/png": "[encoded data removed]",
            "text/plain": [
              "<Figure size 504x504 with 1 Axes>"
            ]
          },
          "metadata": {},
          "output_type": "display_data"
        }
      ],
      "source": [
        "#pie charts for batting second\n",
        "plt.figure(figsize=(7,7))\n",
        "plt.pie(list(second_batting['winner'].value_counts()),labels=list(second_batting['winner'].value_counts().keys()) ,autopct= '%0.1f%% '  )\n",
        "plt.show()"
      ]
    },
    {
      "cell_type": "code",
      "execution_count": null,
      "id": "af6cb02a",
      "metadata": {
        "execution": {
          "iopub.execute_input": "2021-11-29T21:37:59.956497Z",
          "iopub.status.busy": "2021-11-29T21:37:59.955557Z",
          "iopub.status.idle": "2021-11-29T21:37:59.962635Z",
          "shell.execute_reply": "2021-11-29T21:37:59.963240Z",
          "shell.execute_reply.started": "2021-11-29T21:31:34.341042Z"
        },
        "papermill": {
          "duration": 0.051868,
          "end_time": "2021-11-29T21:37:59.963414",
          "exception": false,
          "start_time": "2021-11-29T21:37:59.911546",
          "status": "completed"
        },
        "tags": [],
        "id": "af6cb02a",
        "outputId": "223f5481-7cd1-4a4d-e363-7b2b782a3361"
      },
      "outputs": [
        {
          "data": {
            "text/plain": [
              "IPL-2013    76\n",
              "IPL-2012    74\n",
              "IPL-2011    73\n",
              "IPL-2010    60\n",
              "IPL-2014    60\n",
              "IPL-2016    60\n",
              "IPL-2018    60\n",
              "IPL-2019    60\n",
              "IPL-2017    59\n",
              "IPL-2015    59\n",
              "IPL-2008    58\n",
              "IPL-2009    57\n",
              "Name: Season, dtype: int64"
            ]
          },
          "execution_count": 27,
          "metadata": {},
          "output_type": "execute_result"
        }
      ],
      "source": [
        "#looking at  the number of matches for each season played\n",
        "ipl['Season'].value_counts()"
      ]
    },
    {
      "cell_type": "code",
      "execution_count": null,
      "id": "0910508b",
      "metadata": {
        "execution": {
          "iopub.execute_input": "2021-11-29T21:38:00.049389Z",
          "iopub.status.busy": "2021-11-29T21:38:00.048412Z",
          "iopub.status.idle": "2021-11-29T21:38:00.055577Z",
          "shell.execute_reply": "2021-11-29T21:38:00.056158Z",
          "shell.execute_reply.started": "2021-11-29T21:32:55.599854Z"
        },
        "papermill": {
          "duration": 0.051782,
          "end_time": "2021-11-29T21:38:00.056336",
          "exception": false,
          "start_time": "2021-11-29T21:38:00.004554",
          "status": "completed"
        },
        "tags": [],
        "id": "0910508b",
        "outputId": "41bb5149-7421-4214-e36d-859773755dea"
      },
      "outputs": [
        {
          "data": {
            "text/plain": [
              "Mumbai            101\n",
              "Kolkata            77\n",
              "Delhi              74\n",
              "Bangalore          66\n",
              "Hyderabad          64\n",
              "Chennai            57\n",
              "Jaipur             47\n",
              "Chandigarh         46\n",
              "Pune               38\n",
              "Durban             15\n",
              "Bengaluru          14\n",
              "Visakhapatnam      13\n",
              "Centurion          12\n",
              "Ahmedabad          12\n",
              "Rajkot             10\n",
              "Mohali             10\n",
              "Indore              9\n",
              "Dharamsala          9\n",
              "Johannesburg        8\n",
              "Cuttack             7\n",
              "Ranchi              7\n",
              "Port Elizabeth      7\n",
              "Cape Town           7\n",
              "Abu Dhabi           7\n",
              "Sharjah             6\n",
              "Raipur              6\n",
              "Kochi               5\n",
              "Kanpur              4\n",
              "Nagpur              3\n",
              "Kimberley           3\n",
              "East London         3\n",
              "Bloemfontein        2\n",
              "Name: city, dtype: int64"
            ]
          },
          "execution_count": 28,
          "metadata": {},
          "output_type": "execute_result"
        }
      ],
      "source": [
        "#looking at the number of matches played in each city\n",
        "ipl['city'].value_counts()"
      ]
    },
    {
      "cell_type": "code",
      "execution_count": null,
      "id": "771222e5",
      "metadata": {
        "papermill": {
          "duration": 0.0408,
          "end_time": "2021-11-29T21:38:00.139318",
          "exception": false,
          "start_time": "2021-11-29T21:38:00.098518",
          "status": "completed"
        },
        "tags": [],
        "id": "771222e5"
      },
      "outputs": [],
      "source": []
    }
  ],
  "metadata": {
    "kernelspec": {
      "display_name": "Python 3",
      "language": "python",
      "name": "python3"
    },
    "language_info": {
      "codemirror_mode": {
        "name": "ipython",
        "version": 3
      },
      "file_extension": ".py",
      "mimetype": "text/x-python",
      "name": "python",
      "nbconvert_exporter": "python",
      "pygments_lexer": "ipython3",
      "version": "3.7.10"
    },
    "papermill": {
      "default_parameters": {},
      "duration": 14.107197,
      "end_time": "2021-11-29T21:38:00.789441",
      "environment_variables": {},
      "exception": null,
      "input_path": "__notebook__.ipynb",
      "output_path": "__notebook__.ipynb",
      "parameters": {},
      "start_time": "2021-11-29T21:37:46.682244",
      "version": "2.3.3"
    },
    "colab": {
      "provenance": []
    }
  },
  "nbformat": 4,
  "nbformat_minor": 5
}